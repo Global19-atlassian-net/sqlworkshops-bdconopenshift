{
    "metadata": {
        "kernelspec": {
            "name": "SQL",
            "display_name": "SQL",
            "language": "sql"
        },
        "language_info": {
            "name": "sql",
            "version": ""
        }
    },
    "nbformat_minor": 2,
    "nbformat": 4,
    "cells": [
        {
            "cell_type": "markdown",
            "source": [
                "![](Logo.png)\r\n",
                "\r\n",
                "## DBA: Read Credit Card Data from HDFS Using T-SQL\r\n",
                "\r\n",
                "This Notebook uses a Format for CSV Files, an HDFS Data Source, and an External Table with PolyBase. It allows the DBA to create a SQL Server Table that maintains security while allowing standard T-SQL Queries across an HDFS source, without importing the data. \r\n",
                "\r\n",
                "### First we set the database:"
            ],
            "metadata": {
                "azdata_cell_guid": "93a66782-282b-46ff-82c6-ab60c1e24124"
            }
        },
        {
            "cell_type": "code",
            "source": [
                "USE GrandCreditFinancial;\r\n",
                "GO"
            ],
            "metadata": {
                "azdata_cell_guid": "c0f356ae-721f-4f34-bd79-309e47a8205f",
                "tags": []
            },
            "outputs": [
                {
                    "output_type": "display_data",
                    "data": {
                        "text/html": "Commands completed successfully."
                    },
                    "metadata": {}
                },
                {
                    "output_type": "display_data",
                    "data": {
                        "text/html": "Total execution time: 00:00:00.001"
                    },
                    "metadata": {}
                }
            ],
            "execution_count": 2
        },
        {
            "cell_type": "markdown",
            "source": [
                "### Next, we create a Format File, an External Data Source that points to an HDFS location, and an External Table with a definition for the contents of an entire directory in HDFS:"
            ],
            "metadata": {
                "azdata_cell_guid": "14efd60e-178a-4d88-a1eb-a3b55f4a6873"
            }
        },
        {
            "cell_type": "code",
            "source": [
                "/* Create External File Format */\r\n",
                "CREATE EXTERNAL FILE FORMAT csv_file\r\n",
                "WITH (\r\n",
                "    FORMAT_TYPE = DELIMITEDTEXT,\r\n",
                "    FORMAT_OPTIONS(\r\n",
                "        FIELD_TERMINATOR = ',',\r\n",
                "        STRING_DELIMITER = '0x22',\r\n",
                "        FIRST_ROW = 2,\r\n",
                "        USE_TYPE_DEFAULT = TRUE)\r\n",
                ");\r\n",
                "GO\r\n",
                "\r\n",
                "/* Create External Data Source to the Storage Pool */\r\n",
                "CREATE EXTERNAL DATA SOURCE SqlStoragePool\r\n",
                "WITH (LOCATION = 'sqlhdfs://controller-svc/default');\r\n",
                "\r\n",
                "CREATE EXTERNAL TABLE [CCTransactions_hdfs]\r\n",
                "    (\r\n",
                "    \"AccountID\"  VARCHAR(250) \r\n",
                "    , \"CurrencyCode\" VARCHAR(250) \r\n",
                "    , \"CardVendor\" VARCHAR(250) \r\n",
                "    , \"VendorName\" VARCHAR(250) \r\n",
                "    , \"TransactionDate\" VARCHAR(250)  \r\n",
                "    , \"AmountDebit\" VARCHAR(250) \r\n",
                "    , \"PurchaseClass\" VARCHAR(250)\r\n",
                "    , \"PurchaseLocation\" VARCHAR(250)\r\n",
                "    , \"SourceIP\" VARCHAR(250)\r\n",
                "    )\r\n",
                "    WITH\r\n",
                "    (\r\n",
                "        DATA_SOURCE = SqlStoragePool,\r\n",
                "        LOCATION = '/transactions/CC',\r\n",
                "        FILE_FORMAT = csv_file\r\n",
                "    );\r\n",
                "GO\r\n",
                ""
            ],
            "metadata": {
                "azdata_cell_guid": "aa2e29ad-4f2e-4e3f-9605-22f66e123547",
                "tags": []
            },
            "outputs": [
                {
                    "output_type": "display_data",
                    "data": {
                        "text/html": "Commands completed successfully."
                    },
                    "metadata": {}
                },
                {
                    "output_type": "display_data",
                    "data": {
                        "text/html": "Commands completed successfully."
                    },
                    "metadata": {}
                },
                {
                    "output_type": "display_data",
                    "data": {
                        "text/html": "Total execution time: 00:00:02.491"
                    },
                    "metadata": {}
                }
            ],
            "execution_count": 3
        },
        {
            "cell_type": "markdown",
            "source": [
                "### Now we can read data from HDFS using T-SQL. This query finds all transactions on a given date, and you could also convert that to a formal DATETIME type if desired. \r\n",
                "\r\n",
                "These External Tables can be joined to any other SQL Server Table, or even another External Table:"
            ],
            "metadata": {
                "azdata_cell_guid": "e10c1864-1e88-4011-8988-a824ac74649d"
            }
        },
        {
            "cell_type": "code",
            "source": [
                "/* Read Data from HDFS using T-SQL, Find all transactions on a given date  */\r\n",
                "SELECT * FROM CCTransactions_hdfs\r\n",
                "WHERE TransactionDate = '2/12/2020';\r\n",
                "GO"
            ],
            "metadata": {
                "azdata_cell_guid": "74a1bd50-0614-413c-9158-58dc804c75a1",
                "tags": []
            },
            "outputs": [
                {
                    "output_type": "display_data",
                    "data": {
                        "text/html": "(36 rows affected)"
                    },
                    "metadata": {}
                },
                {
                    "output_type": "display_data",
                    "data": {
                        "text/html": "Total execution time: 00:00:03.623"
                    },
                    "metadata": {}
                },
                {
                    "output_type": "execute_result",
                    "execution_count": 4,
                    "data": {
                        "application/vnd.dataresource+json": {
                            "schema": {
                                "fields": [
                                    {
                                        "name": "AccountID"
                                    },
                                    {
                                        "name": "CurrencyCode"
                                    },
                                    {
                                        "name": "CardVendor"
                                    },
                                    {
                                        "name": "VendorName"
                                    },
                                    {
                                        "name": "TransactionDate"
                                    },
                                    {
                                        "name": "AmountDebit"
                                    },
                                    {
                                        "name": "PurchaseClass"
                                    },
                                    {
                                        "name": "PurchaseLocation"
                                    },
                                    {
                                        "name": "SourceIP"
                                    }
                                ]
                            },
                            "data": [
                                {
                                    "0": "61",
                                    "1": "7",
                                    "2": "Citibank",
                                    "3": "Apple Inc.",
                                    "4": "2/12/2020",
                                    "5": "31.0",
                                    "6": "Consumer Staples",
                                    "7": "Erickson, Queen Caroline   Alley 1948, Tallahassee, CAN 0343",
                                    "8": "131.219.195.157"
                                },
                                {
                                    "0": "4313",
                                    "1": "2",
                                    "2": "Maestro",
                                    "3": "Danone",
                                    "4": "2/12/2020",
                                    "5": "133.24",
                                    "6": "Energy",
                                    "7": "Team Guard SRL, Bell    Road 1142, Zurich, BRN 5210",
                                    "8": "106.45.207.143"
                                },
                                {
                                    "0": "5177",
                                    "1": "12",
                                    "2": "Visa",
                                    "3": "Facebook",
                                    "4": "2/12/2020",
                                    "5": "478.97",
                                    "6": "Financials",
                                    "7": "Demaco, Canon Street 9492, Charlotte, NER 5117",
                                    "8": "38.35.30.0"
                                },
                                {
                                    "0": "9189",
                                    "1": "5",
                                    "2": "Capital One",
                                    "3": "UPC",
                                    "4": "2/12/2020",
                                    "5": "775.83",
                                    "6": "Telecom",
                                    "7": "ExxonMobil, Fair Route 6251, Colorado Springs, MTQ 3405",
                                    "8": "54.6.129.120"
                                },
                                {
                                    "0": "145",
                                    "1": "10",
                                    "2": "Chase",
                                    "3": "BuzzFeed",
                                    "4": "2/12/2020",
                                    "5": "672.31",
                                    "6": "Utilities",
                                    "7": "Erickson, Bekesbourne   Walk 6282, Henderson, LTU 7363",
                                    "8": "208.102.241.100"
                                },
                                {
                                    "0": "4533",
                                    "1": "9",
                                    "2": "Bank of America",
                                    "3": "Danone",
                                    "4": "2/12/2020",
                                    "5": "332.04",
                                    "6": "Consumer Staples",
                                    "7": "DynCorp, Ayres   Walk 4245, Chicago, ITA 1556",
                                    "8": "170.226.120.244"
                                },
                                {
                                    "0": "5259",
                                    "1": "13",
                                    "2": "Discover",
                                    "3": "It Smart Group",
                                    "4": "2/12/2020",
                                    "5": "126.79",
                                    "6": "Utilities",
                                    "7": "Mars, Sherwood  Vale 4090, Worcester, ZMB 5642",
                                    "8": "228.230.206.37"
                                },
                                {
                                    "0": "9676",
                                    "1": "10",
                                    "2": "Wells Fargo",
                                    "3": "Mars",
                                    "4": "2/12/2020",
                                    "5": "769.14",
                                    "6": "Industrials",
                                    "7": "ENEL, Elizabeth  Route 7336, Norfolk, UGA 2774",
                                    "8": "228.77.55.164"
                                },
                                {
                                    "0": "410",
                                    "1": "12",
                                    "2": "Wells Fargo",
                                    "3": "Coca-Cola Company",
                                    "4": "2/12/2020",
                                    "5": "798.38",
                                    "6": "Telecom",
                                    "7": "Areon Impex, Blackall   Tunnel 3041, Indianapolis, TZA 1461",
                                    "8": "102.23.218.199"
                                },
                                {
                                    "0": "4777",
                                    "1": "4",
                                    "2": "Discover",
                                    "3": "Zepter",
                                    "4": "2/12/2020",
                                    "5": "217.07",
                                    "6": "Technology",
                                    "7": "DynCorp, Fairholt   Grove 6599, Chicago, ARE 3750",
                                    "8": "126.119.17.10"
                                },
                                {
                                    "0": "5342",
                                    "1": "9",
                                    "2": "American Express",
                                    "3": "ENEL",
                                    "4": "2/12/2020",
                                    "5": "460.65",
                                    "6": "Technology",
                                    "7": "Vodafone, Carlton  Lane 8146, Santa Ana, TUN 6385",
                                    "8": "7.1.66.132"
                                },
                                {
                                    "0": "577",
                                    "1": "3",
                                    "2": "American Express",
                                    "3": "Areon Impex",
                                    "4": "2/12/2020",
                                    "5": "151.29",
                                    "6": "Telecom",
                                    "7": "Zepter, Armory  Avenue 9501, Fremont, VUT 8110",
                                    "8": "20.86.112.3"
                                },
                                {
                                    "0": "4823",
                                    "1": "4",
                                    "2": "American Express",
                                    "3": "BuzzFeed",
                                    "4": "2/12/2020",
                                    "5": "314.26",
                                    "6": "Materials",
                                    "7": "AECOM, Carolina  Walk 6152, Berlin, CYP 2141",
                                    "8": "161.135.251.66"
                                },
                                {
                                    "0": "5420",
                                    "1": "8",
                                    "2": "Discover",
                                    "3": "21st Century Fox",
                                    "4": "2/12/2020",
                                    "5": "747.83",
                                    "6": "Utilities",
                                    "7": "DynCorp, Rivervalley Alley 9800, Jersey City, VNM 6416",
                                    "8": "154.41.127.165"
                                },
                                {
                                    "0": "866",
                                    "1": "4",
                                    "2": "UnionPay",
                                    "3": "CarMax",
                                    "4": "2/12/2020",
                                    "5": "627.98",
                                    "6": "Healthcare",
                                    "7": "Biolife Grup, Coleman  Pass 5333, Ontario, CYP 4273",
                                    "8": "155.233.108.204"
                                },
                                {
                                    "0": "4850",
                                    "1": "11",
                                    "2": "Maestro",
                                    "3": "Telekom",
                                    "4": "2/12/2020",
                                    "5": "500.15",
                                    "6": "Technology",
                                    "7": "ExxonMobil, Baylis  Hill 3016, Escondido, REU 0156",
                                    "8": "228.95.200.237"
                                },
                                {
                                    "0": "5559",
                                    "1": "5",
                                    "2": "American Express",
                                    "3": "DynCorp",
                                    "4": "2/12/2020",
                                    "5": "300.62",
                                    "6": "Technology",
                                    "7": "21st Century Fox, Howard Street 8402, Louisville, CAF 7342",
                                    "8": "97.165.187.34"
                                },
                                {
                                    "0": "1621",
                                    "1": "12",
                                    "2": "Discover",
                                    "3": "Carrefour",
                                    "4": "2/12/2020",
                                    "5": "950.1",
                                    "6": "Materials",
                                    "7": "Vodafone, Marina  Grove 3296, Lincoln, MOZ 3560",
                                    "8": "84.181.136.0"
                                },
                                {
                                    "0": "4867",
                                    "1": "6",
                                    "2": "Citibank",
                                    "3": "Biolife Grup",
                                    "4": "2/12/2020",
                                    "5": "442.17",
                                    "6": "Energy",
                                    "7": "Comcast, Carlton  Route 4986, Memphis, BFA 6468",
                                    "8": "57.172.151.20"
                                },
                                {
                                    "0": "5758",
                                    "1": "3",
                                    "2": "Bank of America",
                                    "3": "Global Print",
                                    "4": "2/12/2020",
                                    "5": "614.45",
                                    "6": "Consumer Staples",
                                    "7": "BuzzFeed, Clere  Crossroad 1344, Rochester, NFK 7408",
                                    "8": "39.136.15.123"
                                },
                                {
                                    "0": "2181",
                                    "1": "2",
                                    "2": "Wells Fargo",
                                    "3": "UPC",
                                    "4": "2/12/2020",
                                    "5": "273.72",
                                    "6": "Consumer Staples",
                                    "7": "Global Print, Enford   Pass 9998, Innsbruck, LAO 5535",
                                    "8": "184.214.164.29"
                                },
                                {
                                    "0": "5834",
                                    "1": "2",
                                    "2": "Capital One",
                                    "3": "ExxonMobil",
                                    "4": "2/12/2020",
                                    "5": "966.19",
                                    "6": "Materials",
                                    "7": "Comcast, Aylward   Alley 9306, Amarillo, CCK 6658",
                                    "8": "155.168.219.110"
                                },
                                {
                                    "0": "2596",
                                    "1": "4",
                                    "2": "Citibank",
                                    "3": "Boeing",
                                    "4": "2/12/2020",
                                    "5": "320.34",
                                    "6": "Telecom",
                                    "7": "Carrefour, Canon Avenue 6822, Milano, SVN 8411",
                                    "8": "21.90.54.67"
                                },
                                {
                                    "0": "5872",
                                    "1": "8",
                                    "2": "Capital One",
                                    "3": "Boeing",
                                    "4": "2/12/2020",
                                    "5": "579.56",
                                    "6": "Real Estate",
                                    "7": "Biolife Grup, Abbotswell  Vale 7779, Zurich, FSM 1863",
                                    "8": "81.80.42.169"
                                },
                                {
                                    "0": "2922",
                                    "1": "7",
                                    "2": "Chase",
                                    "3": "Comcast",
                                    "4": "2/12/2020",
                                    "5": "424.35",
                                    "6": "Telecom",
                                    "7": "Biolife Grup, Chapel  Grove 7305, Saint Paul, IRL 1540",
                                    "8": "214.66.159.111"
                                },
                                {
                                    "0": "6107",
                                    "1": "3",
                                    "2": "Visa",
                                    "3": "ENEL",
                                    "4": "2/12/2020",
                                    "5": "304.01",
                                    "6": "Industrials",
                                    "7": "Boeing, Geffrye   Tunnel 701, Laredo, PRY 8522",
                                    "8": "31.14.204.86"
                                },
                                {
                                    "0": "3320",
                                    "1": "3",
                                    "2": "Visa",
                                    "3": "Erickson",
                                    "4": "2/12/2020",
                                    "5": "787.65",
                                    "6": "Materials",
                                    "7": "ExxonMobil, Belgrave  Lane 1391, Orlando, VUT 5500",
                                    "8": "98.74.239.36"
                                },
                                {
                                    "0": "6738",
                                    "1": "8",
                                    "2": "UnionPay",
                                    "3": "Coca-Cola Company",
                                    "4": "2/12/2020",
                                    "5": "666.09",
                                    "6": "Energy",
                                    "7": "Erickson, Jackson Drive 6158, Oklahoma City, TZA 0008",
                                    "8": "68.179.20.112"
                                },
                                {
                                    "0": "3442",
                                    "1": "8",
                                    "2": "Citibank",
                                    "3": "Danone",
                                    "4": "2/12/2020",
                                    "5": "665.71",
                                    "6": "Telecom",
                                    "7": "Mars, Dunstans  Boulevard 3023, Colorado Springs, VGB 0578",
                                    "8": "134.151.38.235"
                                },
                                {
                                    "0": "7104",
                                    "1": "3",
                                    "2": "Wells Fargo",
                                    "3": "Comodo",
                                    "4": "2/12/2020",
                                    "5": "429.02",
                                    "6": "Utilities",
                                    "7": "Carrefour, Ben   Boulevard 5555, Sacramento, MDA 7037",
                                    "8": "64.250.34.231"
                                },
                                {
                                    "0": "3655",
                                    "1": "4",
                                    "2": "Discover",
                                    "3": "Areon Impex",
                                    "4": "2/12/2020",
                                    "5": "675.61",
                                    "6": "Real Estate",
                                    "7": "DynCorp, Cingworth  Alley 1905, Indianapolis, TUV 2187",
                                    "8": "28.153.219.18"
                                },
                                {
                                    "0": "7373",
                                    "1": "9",
                                    "2": "Bank of America",
                                    "3": "Zepter",
                                    "4": "2/12/2020",
                                    "5": "302.63",
                                    "6": "Energy",
                                    "7": "Erickson, York Tunnel 5136, Tulsa, BRB 7004",
                                    "8": "219.69.41.128"
                                },
                                {
                                    "0": "4194",
                                    "1": "1",
                                    "2": "Visa",
                                    "3": "Amazon.com",
                                    "4": "2/12/2020",
                                    "5": "304.32",
                                    "6": "Technology",
                                    "7": "Coca-Cola Company, Thomas More   Road 4535, Wien, ATA 2230",
                                    "8": "157.242.124.99"
                                },
                                {
                                    "0": "7687",
                                    "1": "9",
                                    "2": "Visa",
                                    "3": "Amazon.com",
                                    "4": "2/12/2020",
                                    "5": "569.11",
                                    "6": "Utilities",
                                    "7": "ENEL, Caedmon  Grove 538, Huntsville, EGY 6106",
                                    "8": "160.149.43.77"
                                },
                                {
                                    "0": "4311",
                                    "1": "13",
                                    "2": "Maestro",
                                    "3": "UPC",
                                    "4": "2/12/2020",
                                    "5": "914.38",
                                    "6": "Real Estate",
                                    "7": "ENEL, Gavel   Alley 3545, El Paso, GBR 5553",
                                    "8": "223.211.191.184"
                                },
                                {
                                    "0": "8933",
                                    "1": "10",
                                    "2": "UnionPay",
                                    "3": "Erickson",
                                    "4": "2/12/2020",
                                    "5": "918.5",
                                    "6": "Telecom",
                                    "7": "Comodo, Howard Drive 2546, Bellevue, NOR 1673",
                                    "8": "204.77.213.100"
                                }
                            ]
                        },
                        "text/html": "<table><tr><th>AccountID</th><th>CurrencyCode</th><th>CardVendor</th><th>VendorName</th><th>TransactionDate</th><th>AmountDebit</th><th>PurchaseClass</th><th>PurchaseLocation</th><th>SourceIP</th></tr><tr><td>61</td><td>7</td><td>Citibank</td><td>Apple Inc.</td><td>2/12/2020</td><td>31.0</td><td>Consumer Staples</td><td>Erickson, Queen Caroline   Alley 1948, Tallahassee, CAN 0343</td><td>131.219.195.157</td></tr><tr><td>4313</td><td>2</td><td>Maestro</td><td>Danone</td><td>2/12/2020</td><td>133.24</td><td>Energy</td><td>Team Guard SRL, Bell    Road 1142, Zurich, BRN 5210</td><td>106.45.207.143</td></tr><tr><td>5177</td><td>12</td><td>Visa</td><td>Facebook</td><td>2/12/2020</td><td>478.97</td><td>Financials</td><td>Demaco, Canon Street 9492, Charlotte, NER 5117</td><td>38.35.30.0</td></tr><tr><td>9189</td><td>5</td><td>Capital One</td><td>UPC</td><td>2/12/2020</td><td>775.83</td><td>Telecom</td><td>ExxonMobil, Fair Route 6251, Colorado Springs, MTQ 3405</td><td>54.6.129.120</td></tr><tr><td>145</td><td>10</td><td>Chase</td><td>BuzzFeed</td><td>2/12/2020</td><td>672.31</td><td>Utilities</td><td>Erickson, Bekesbourne   Walk 6282, Henderson, LTU 7363</td><td>208.102.241.100</td></tr><tr><td>4533</td><td>9</td><td>Bank of America</td><td>Danone</td><td>2/12/2020</td><td>332.04</td><td>Consumer Staples</td><td>DynCorp, Ayres   Walk 4245, Chicago, ITA 1556</td><td>170.226.120.244</td></tr><tr><td>5259</td><td>13</td><td>Discover</td><td>It Smart Group</td><td>2/12/2020</td><td>126.79</td><td>Utilities</td><td>Mars, Sherwood  Vale 4090, Worcester, ZMB 5642</td><td>228.230.206.37</td></tr><tr><td>9676</td><td>10</td><td>Wells Fargo</td><td>Mars</td><td>2/12/2020</td><td>769.14</td><td>Industrials</td><td>ENEL, Elizabeth  Route 7336, Norfolk, UGA 2774</td><td>228.77.55.164</td></tr><tr><td>410</td><td>12</td><td>Wells Fargo</td><td>Coca-Cola Company</td><td>2/12/2020</td><td>798.38</td><td>Telecom</td><td>Areon Impex, Blackall   Tunnel 3041, Indianapolis, TZA 1461</td><td>102.23.218.199</td></tr><tr><td>4777</td><td>4</td><td>Discover</td><td>Zepter</td><td>2/12/2020</td><td>217.07</td><td>Technology</td><td>DynCorp, Fairholt   Grove 6599, Chicago, ARE 3750</td><td>126.119.17.10</td></tr><tr><td>5342</td><td>9</td><td>American Express</td><td>ENEL</td><td>2/12/2020</td><td>460.65</td><td>Technology</td><td>Vodafone, Carlton  Lane 8146, Santa Ana, TUN 6385</td><td>7.1.66.132</td></tr><tr><td>577</td><td>3</td><td>American Express</td><td>Areon Impex</td><td>2/12/2020</td><td>151.29</td><td>Telecom</td><td>Zepter, Armory  Avenue 9501, Fremont, VUT 8110</td><td>20.86.112.3</td></tr><tr><td>4823</td><td>4</td><td>American Express</td><td>BuzzFeed</td><td>2/12/2020</td><td>314.26</td><td>Materials</td><td>AECOM, Carolina  Walk 6152, Berlin, CYP 2141</td><td>161.135.251.66</td></tr><tr><td>5420</td><td>8</td><td>Discover</td><td>21st Century Fox</td><td>2/12/2020</td><td>747.83</td><td>Utilities</td><td>DynCorp, Rivervalley Alley 9800, Jersey City, VNM 6416</td><td>154.41.127.165</td></tr><tr><td>866</td><td>4</td><td>UnionPay</td><td>CarMax</td><td>2/12/2020</td><td>627.98</td><td>Healthcare</td><td>Biolife Grup, Coleman  Pass 5333, Ontario, CYP 4273</td><td>155.233.108.204</td></tr><tr><td>4850</td><td>11</td><td>Maestro</td><td>Telekom</td><td>2/12/2020</td><td>500.15</td><td>Technology</td><td>ExxonMobil, Baylis  Hill 3016, Escondido, REU 0156</td><td>228.95.200.237</td></tr><tr><td>5559</td><td>5</td><td>American Express</td><td>DynCorp</td><td>2/12/2020</td><td>300.62</td><td>Technology</td><td>21st Century Fox, Howard Street 8402, Louisville, CAF 7342</td><td>97.165.187.34</td></tr><tr><td>1621</td><td>12</td><td>Discover</td><td>Carrefour</td><td>2/12/2020</td><td>950.1</td><td>Materials</td><td>Vodafone, Marina  Grove 3296, Lincoln, MOZ 3560</td><td>84.181.136.0</td></tr><tr><td>4867</td><td>6</td><td>Citibank</td><td>Biolife Grup</td><td>2/12/2020</td><td>442.17</td><td>Energy</td><td>Comcast, Carlton  Route 4986, Memphis, BFA 6468</td><td>57.172.151.20</td></tr><tr><td>5758</td><td>3</td><td>Bank of America</td><td>Global Print</td><td>2/12/2020</td><td>614.45</td><td>Consumer Staples</td><td>BuzzFeed, Clere  Crossroad 1344, Rochester, NFK 7408</td><td>39.136.15.123</td></tr><tr><td>2181</td><td>2</td><td>Wells Fargo</td><td>UPC</td><td>2/12/2020</td><td>273.72</td><td>Consumer Staples</td><td>Global Print, Enford   Pass 9998, Innsbruck, LAO 5535</td><td>184.214.164.29</td></tr><tr><td>5834</td><td>2</td><td>Capital One</td><td>ExxonMobil</td><td>2/12/2020</td><td>966.19</td><td>Materials</td><td>Comcast, Aylward   Alley 9306, Amarillo, CCK 6658</td><td>155.168.219.110</td></tr><tr><td>2596</td><td>4</td><td>Citibank</td><td>Boeing</td><td>2/12/2020</td><td>320.34</td><td>Telecom</td><td>Carrefour, Canon Avenue 6822, Milano, SVN 8411</td><td>21.90.54.67</td></tr><tr><td>5872</td><td>8</td><td>Capital One</td><td>Boeing</td><td>2/12/2020</td><td>579.56</td><td>Real Estate</td><td>Biolife Grup, Abbotswell  Vale 7779, Zurich, FSM 1863</td><td>81.80.42.169</td></tr><tr><td>2922</td><td>7</td><td>Chase</td><td>Comcast</td><td>2/12/2020</td><td>424.35</td><td>Telecom</td><td>Biolife Grup, Chapel  Grove 7305, Saint Paul, IRL 1540</td><td>214.66.159.111</td></tr><tr><td>6107</td><td>3</td><td>Visa</td><td>ENEL</td><td>2/12/2020</td><td>304.01</td><td>Industrials</td><td>Boeing, Geffrye   Tunnel 701, Laredo, PRY 8522</td><td>31.14.204.86</td></tr><tr><td>3320</td><td>3</td><td>Visa</td><td>Erickson</td><td>2/12/2020</td><td>787.65</td><td>Materials</td><td>ExxonMobil, Belgrave  Lane 1391, Orlando, VUT 5500</td><td>98.74.239.36</td></tr><tr><td>6738</td><td>8</td><td>UnionPay</td><td>Coca-Cola Company</td><td>2/12/2020</td><td>666.09</td><td>Energy</td><td>Erickson, Jackson Drive 6158, Oklahoma City, TZA 0008</td><td>68.179.20.112</td></tr><tr><td>3442</td><td>8</td><td>Citibank</td><td>Danone</td><td>2/12/2020</td><td>665.71</td><td>Telecom</td><td>Mars, Dunstans  Boulevard 3023, Colorado Springs, VGB 0578</td><td>134.151.38.235</td></tr><tr><td>7104</td><td>3</td><td>Wells Fargo</td><td>Comodo</td><td>2/12/2020</td><td>429.02</td><td>Utilities</td><td>Carrefour, Ben   Boulevard 5555, Sacramento, MDA 7037</td><td>64.250.34.231</td></tr><tr><td>3655</td><td>4</td><td>Discover</td><td>Areon Impex</td><td>2/12/2020</td><td>675.61</td><td>Real Estate</td><td>DynCorp, Cingworth  Alley 1905, Indianapolis, TUV 2187</td><td>28.153.219.18</td></tr><tr><td>7373</td><td>9</td><td>Bank of America</td><td>Zepter</td><td>2/12/2020</td><td>302.63</td><td>Energy</td><td>Erickson, York Tunnel 5136, Tulsa, BRB 7004</td><td>219.69.41.128</td></tr><tr><td>4194</td><td>1</td><td>Visa</td><td>Amazon.com</td><td>2/12/2020</td><td>304.32</td><td>Technology</td><td>Coca-Cola Company, Thomas More   Road 4535, Wien, ATA 2230</td><td>157.242.124.99</td></tr><tr><td>7687</td><td>9</td><td>Visa</td><td>Amazon.com</td><td>2/12/2020</td><td>569.11</td><td>Utilities</td><td>ENEL, Caedmon  Grove 538, Huntsville, EGY 6106</td><td>160.149.43.77</td></tr><tr><td>4311</td><td>13</td><td>Maestro</td><td>UPC</td><td>2/12/2020</td><td>914.38</td><td>Real Estate</td><td>ENEL, Gavel   Alley 3545, El Paso, GBR 5553</td><td>223.211.191.184</td></tr><tr><td>8933</td><td>10</td><td>UnionPay</td><td>Erickson</td><td>2/12/2020</td><td>918.5</td><td>Telecom</td><td>Comodo, Howard Drive 2546, Bellevue, NOR 1673</td><td>204.77.213.100</td></tr></table>"
                    },
                    "metadata": {}
                }
            ],
            "execution_count": 4
        }
    ]
}