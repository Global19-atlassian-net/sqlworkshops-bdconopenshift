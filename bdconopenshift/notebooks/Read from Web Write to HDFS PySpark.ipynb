{
    "metadata": {
        "kernelspec": {
            "name": "pysparkkernel",
            "display_name": "PySpark"
        },
        "language_info": {
            "name": "pyspark",
            "mimetype": "text/x-python",
            "codemirror_mode": {
                "name": "python",
                "version": 3
            },
            "pygments_lexer": "python3"
        }
    },
    "nbformat_minor": 2,
    "nbformat": 4,
    "cells": [
        {
            "cell_type": "markdown",
            "source": [
                "![](Logo.png)\n",
                "\n",
                "## Data Engineer: Read Credit Card Data from Web Store\n",
                "\n",
                "This Notebook load into pandas memory directly using pandas.read_csv. It then writes the data down to HDFS. It assumes there is an Azure Blob Storage that is the Data Sink for a Pipeline reading from Credit Card Machines around the world. \n",
                "\n",
                "> NOTE: In production a Data Engineer would build a pipeline that would leverage a data flow (ex: ADF, NiFi), streaming (ex: Spark, Kafka) or standard ETL platform to write directly to HDFS or a SQL Server table.\n",
                "\n",
                "Set up Libraries and check data layout:"
            ],
            "metadata": {
                "azdata_cell_guid": "ae67c654-2c77-43ae-9f2c-0ec27703e456"
            }
        },
        {
            "cell_type": "code",
            "source": [
                "# Library Loads\r\n",
                "import numpy as np\r\n",
                "import pandas as pd\r\n",
                "data_pdf = pd.read_csv('https://sabwoody.blob.core.windows.net/backups/CCTransactions.csv')\r\n",
                "\r\n",
                "# Data Descriptions\r\n",
                "data_pdf.head()"
            ],
            "metadata": {
                "azdata_cell_guid": "d3e5be97-f9b9-4418-ab5d-78d7ea9697a3"
            },
            "outputs": [
                {
                    "output_type": "stream",
                    "name": "stdout",
                    "text": "Starting Spark application\n"
                },
                {
                    "output_type": "display_data",
                    "data": {
                        "text/plain": "<IPython.core.display.HTML object>",
                        "text/html": "<table>\n<tr><th>ID</th><th>YARN Application ID</th><th>Kind</th><th>State</th><th>Spark UI</th><th>Driver log</th><th>Current session?</th></tr><tr><td>0</td><td>application_1598274346388_0001</td><td>pyspark</td><td>idle</td><td><a target=\"_blank\" href=\"https://10.34.200.61:30443/gateway/default/yarn/proxy/application_1598274346388_0001/\">Link</a></td><td><a target=\"_blank\" href=\"https://10.34.200.61:30443/gateway/default/yarn/container/container_1598274346388_0001_01_000001/livy\">Link</a></td><td>✔</td></tr></table>"
                    },
                    "metadata": {}
                },
                {
                    "output_type": "display_data",
                    "data": {
                        "text/plain": "FloatProgress(value=0.0, bar_style='info', description='Progress:', layout=Layout(height='25px', width='50%'),…",
                        "application/vnd.jupyter.widget-view+json": {
                            "version_major": 2,
                            "version_minor": 0,
                            "model_id": "6401a4ca1f274fad9e41f282eb95d7f3"
                        }
                    },
                    "metadata": {}
                },
                {
                    "output_type": "stream",
                    "name": "stdout",
                    "text": "SparkSession available as 'spark'.\n"
                },
                {
                    "output_type": "display_data",
                    "data": {
                        "text/plain": "FloatProgress(value=0.0, bar_style='info', description='Progress:', layout=Layout(height='25px', width='50%'),…",
                        "application/vnd.jupyter.widget-view+json": {
                            "version_major": 2,
                            "version_minor": 0,
                            "model_id": "0e9b3590fba746aca8bbfefce96b15b5"
                        }
                    },
                    "metadata": {}
                },
                {
                    "output_type": "stream",
                    "name": "stdout",
                    "text": "   AccountID  ...       SourceIP\n0          1  ...   59.4.171.187\n1          2  ...   80.72.90.205\n2          3  ...   152.13.53.39\n3          4  ...  93.128.80.149\n4          5  ...   184.2.52.223\n\n[5 rows x 9 columns]"
                }
            ],
            "execution_count": 2
        },
        {
            "cell_type": "markdown",
            "source": [
                "Make it a Spark dataframe (in memory, distributed)"
            ],
            "metadata": {
                "azdata_cell_guid": "6c8dd8ba-8c32-49ad-aea7-187216121cb9"
            }
        },
        {
            "cell_type": "code",
            "source": [
                "data_df = spark.createDataFrame(data_pdf)"
            ],
            "metadata": {
                "azdata_cell_guid": "9050545a-ae50-4fbc-9f1c-f87a948b31c0"
            },
            "outputs": [
                {
                    "output_type": "display_data",
                    "data": {
                        "text/plain": "FloatProgress(value=0.0, bar_style='info', description='Progress:', layout=Layout(height='25px', width='50%'),…",
                        "application/vnd.jupyter.widget-view+json": {
                            "version_major": 2,
                            "version_minor": 0,
                            "model_id": "53dc9f2725e342f58fb15b1e77c2643a"
                        }
                    },
                    "metadata": {}
                }
            ],
            "execution_count": 3
        },
        {
            "cell_type": "code",
            "source": [
                "data_df.printSchema()"
            ],
            "metadata": {
                "azdata_cell_guid": "492da444-d55a-4e2f-afbb-4b5e9b05a562"
            },
            "outputs": [
                {
                    "output_type": "display_data",
                    "data": {
                        "text/plain": "FloatProgress(value=0.0, bar_style='info', description='Progress:', layout=Layout(height='25px', width='50%'),…",
                        "application/vnd.jupyter.widget-view+json": {
                            "version_major": 2,
                            "version_minor": 0,
                            "model_id": "d787cf6f59ee4b9fa4458ab24719f61d"
                        }
                    },
                    "metadata": {}
                },
                {
                    "output_type": "stream",
                    "name": "stdout",
                    "text": "root\n |-- AccountID: long (nullable = true)\n |-- CurrencyCode: long (nullable = true)\n |-- CardVendor: string (nullable = true)\n |-- VendorName: string (nullable = true)\n |-- TransactionDate: string (nullable = true)\n |-- AmountDebit: double (nullable = true)\n |-- PurchaseClass: string (nullable = true)\n |-- PurchaseLocation: string (nullable = true)\n |-- SourceIP: string (nullable = true)"
                }
            ],
            "execution_count": 4
        },
        {
            "cell_type": "code",
            "source": [
                "data_df.count()"
            ],
            "metadata": {
                "azdata_cell_guid": "a0f871aa-cbcd-42d5-a351-bf25147cc32a"
            },
            "outputs": [
                {
                    "output_type": "display_data",
                    "data": {
                        "text/plain": "FloatProgress(value=0.0, bar_style='info', description='Progress:', layout=Layout(height='25px', width='50%'),…",
                        "application/vnd.jupyter.widget-view+json": {
                            "version_major": 2,
                            "version_minor": 0,
                            "model_id": "edfcb09d81dc4855ac0939f89aa12cd6"
                        }
                    },
                    "metadata": {}
                },
                {
                    "output_type": "stream",
                    "name": "stdout",
                    "text": "10000"
                }
            ],
            "execution_count": 5
        },
        {
            "cell_type": "markdown",
            "source": [
                "Write to HDFS"
            ],
            "metadata": {
                "azdata_cell_guid": "f850dbdf-d682-42d2-8bf1-41bcb452efe5"
            }
        },
        {
            "cell_type": "code",
            "source": [
                "data_df.write.csv('/transactions/CC') # hdfs:/"
            ],
            "metadata": {
                "azdata_cell_guid": "d5b81df2-7077-4f4d-8d88-f0e4c4eff3af"
            },
            "outputs": [
                {
                    "output_type": "display_data",
                    "data": {
                        "text/plain": "FloatProgress(value=0.0, bar_style='info', description='Progress:', layout=Layout(height='25px', width='50%'),…",
                        "application/vnd.jupyter.widget-view+json": {
                            "version_major": 2,
                            "version_minor": 0,
                            "model_id": "4a4a3c19491e470aa842150e846217b5"
                        }
                    },
                    "metadata": {}
                }
            ],
            "execution_count": 6
        }
    ]
}